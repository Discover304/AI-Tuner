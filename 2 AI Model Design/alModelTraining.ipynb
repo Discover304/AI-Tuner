{
 "metadata": {
  "language_info": {
   "codemirror_mode": {
    "name": "ipython",
    "version": 3
   },
   "file_extension": ".py",
   "mimetype": "text/x-python",
   "name": "python",
   "nbconvert_exporter": "python",
   "pygments_lexer": "ipython3",
   "version": "3.8.5-final"
  },
  "orig_nbformat": 2,
  "kernelspec": {
   "name": "python3",
   "display_name": "Python 3.8.5 64-bit ('FDS-lab': conda)",
   "metadata": {
    "interpreter": {
     "hash": "9e9f5d05f5830932b6882c77a5918e4e61c59a53776ca2bc122646c86d3c974a"
    }
   }
  }
 },
 "nbformat": 4,
 "nbformat_minor": 2,
 "cells": [
  {
   "source": [
    "# AI tuner model design - Chinese version\n",
    "\n",
    "In this section we want to train our AI model to get a reasonably good model\n"
   ],
   "cell_type": "markdown",
   "metadata": {}
  },
  {
   "source": [
    "## Prepare dataset (this is similar to Feasibility Test)\n",
    "In this part we will get a formated vsqx data in dictionary with 2 dimension infromation note and id.\n",
    "\n",
    "1. import vocaloid project (.vsqx) and extract all test related arguments (arg)\n",
    "2. format all args to 960 length list where 960 is the time stamps"
   ],
   "cell_type": "markdown",
   "metadata": {}
  },
  {
   "cell_type": "code",
   "execution_count": 65,
   "metadata": {},
   "outputs": [],
   "source": [
    "# adding path to system\n",
    "import sys, os\n",
    "sys.path.append(os.getcwd())\n",
    "\n",
    "# read the data index json file\n",
    "import json\n",
    "dataPath = os.path.join(os.getcwd(), 'VocaloidVSQXCollection')\n",
    "with open(os.path.join(dataPath,\"source.json\"), 'r', encoding='utf-8') as f:\n",
    "    source = json.load(f) # source is a dictionary\n",
    "fileList = [source[sourceIndex][\"file\"] for sourceIndex in range(len(source))]\n",
    "\n",
    "# initialise all reoslvers\n",
    "from vocaloidDao import vocaloidVSQXResolver\n",
    "resolverList = [vocaloidVSQXResolver(os.path.join(dataPath, fileName)) for fileName in fileList]"
   ]
  },
  {
   "cell_type": "code",
   "execution_count": 66,
   "metadata": {},
   "outputs": [
    {
     "output_type": "stream",
     "name": "stdout",
     "text": [
      "local computer has: 12 cores\n\nParallal computing takes 0.00 seconds to finish.\n\n"
     ]
    }
   ],
   "source": [
    "# resolve all original data in parallel way, and save them to loacl\n",
    "from vocaloidDao import parallelResolve\n",
    "parallelResolve(resolverList)\n"
   ]
  },
  {
   "cell_type": "code",
   "execution_count": 67,
   "metadata": {},
   "outputs": [
    {
     "output_type": "stream",
     "name": "stdout",
     "text": [
      "Log: loaded \n",
      "Log: loaded \n",
      "Log: loaded \n",
      "Log: loaded \n",
      "Log: loaded \n",
      "Log: loaded \n",
      "Log: loaded \n",
      "Log: loaded \n",
      "Log: loaded \n",
      "Log: loaded \n"
     ]
    },
    {
     "output_type": "execute_result",
     "data": {
      "text/plain": [
       "                                                   D  \\\n",
       "0  [0, 0, 0, 0, 0, 0, 0, 0, 0, 0, 0, 0, 0, 0, 0, ...   \n",
       "1  [0, 0, 0, 0, 0, 0, 0, 0, 0, 0, 0, 0, 0, 0, 0, ...   \n",
       "2  [64, 64, 64, 64, 64, 64, 64, 64, 64, 64, 64, 6...   \n",
       "3  [0, 0, 0, 0, 0, 0, 0, 0, 0, 0, 0, 0, 0, 0, 0, ...   \n",
       "4  [55, 55, 55, 55, 55, 55, 55, 55, 55, 55, 55, 5...   \n",
       "\n",
       "                                                   G  \\\n",
       "0  [0, 0, 0, 0, 0, 0, 0, 0, 0, 0, 0, 0, 0, 0, 0, ...   \n",
       "1  [0, 0, 0, 0, 0, 0, 0, 0, 0, 0, 0, 0, 0, 0, 0, ...   \n",
       "2  [0, 0, 0, 0, 0, 0, 0, 0, 0, 0, 0, 0, 0, 0, 0, ...   \n",
       "3  [0, 0, 0, 0, 0, 0, 0, 0, 0, 0, 0, 0, 0, 0, 0, ...   \n",
       "4  [0, 0, 0, 0, 0, 0, 0, 0, 0, 0, 0, 0, 0, 0, 0, ...   \n",
       "\n",
       "                                                   W  \\\n",
       "0  [0, 0, 0, 0, 0, 0, 0, 0, 0, 0, 0, 0, 0, 0, 0, ...   \n",
       "1  [0, 0, 0, 0, 0, 0, 0, 0, 0, 0, 0, 0, 0, 0, 0, ...   \n",
       "2  [0, 0, 0, 0, 0, 0, 0, 0, 0, 0, 0, 0, 0, 0, 0, ...   \n",
       "3  [0, 0, 0, 0, 0, 0, 0, 0, 0, 0, 0, 0, 0, 0, 0, ...   \n",
       "4  [0, 0, 0, 0, 0, 0, 0, 0, 0, 0, 0, 0, 0, 0, 0, ...   \n",
       "\n",
       "                                                   P  \\\n",
       "0  [0, 0, 0, 0, 0, 0, 0, 0, 0, 0, 0, 0, 0, 0, 0, ...   \n",
       "1  [0, 0, 0, 0, 0, 0, 0, 0, 0, 0, 0, 0, 0, 0, 0, ...   \n",
       "2  [2418, 2418, 2418, 2418, 2418, 2418, 2418, 241...   \n",
       "3  [0, 0, 0, 0, 0, 0, 0, 0, 0, 0, 0, 0, 0, 0, 0, ...   \n",
       "4  [0, 0, 0, 0, 0, 0, 0, 0, 0, 0, 0, 0, 0, 0, 0, ...   \n",
       "\n",
       "                                                   S  \\\n",
       "0  [0, 0, 0, 0, 0, 0, 0, 0, 0, 0, 0, 0, 0, 0, 0, ...   \n",
       "1  [0, 0, 0, 0, 0, 0, 0, 0, 0, 0, 0, 0, 0, 0, 0, ...   \n",
       "2  [0, 0, 0, 0, 0, 0, 0, 0, 0, 0, 0, 0, 0, 0, 0, ...   \n",
       "3  [0, 0, 0, 0, 0, 0, 0, 0, 0, 0, 0, 0, 0, 0, 0, ...   \n",
       "4  [0, 0, 0, 0, 0, 0, 0, 0, 0, 0, 0, 0, 0, 0, 0, ...   \n",
       "\n",
       "                                                 VEL  \\\n",
       "0  [64, 64, 64, 64, 64, 64, 64, 64, 64, 64, 64, 6...   \n",
       "1  [64, 64, 64, 64, 64, 64, 64, 64, 64, 64, 64, 6...   \n",
       "2  [64, 64, 64, 64, 64, 64, 64, 64, 64, 64, 64, 6...   \n",
       "3  [64, 64, 64, 64, 64, 64, 64, 64, 64, 64, 64, 6...   \n",
       "4  [64, 64, 64, 64, 64, 64, 64, 64, 64, 64, 64, 6...   \n",
       "\n",
       "                                                   T  \\\n",
       "0  [0, 1, 2, 3, 4, 5, 6, 7, 8, 9, 10, 11, 12, 13,...   \n",
       "1  [0, 1, 2, 3, 4, 5, 6, 7, 8, 9, 10, 11, 12, 13,...   \n",
       "2  [0, 1, 2, 3, 4, 5, 6, 7, 8, 9, 10, 11, 12, 13,...   \n",
       "3  [0, 1, 2, 3, 4, 5, 6, 7, 8, 9, 10, 11, 12, 13,...   \n",
       "4  [0, 1, 2, 3, 4, 5, 6, 7, 8, 9, 10, 11, 12, 13,...   \n",
       "\n",
       "                                                 OPE  \\\n",
       "0  [127, 127, 127, 127, 127, 127, 127, 127, 127, ...   \n",
       "1  [127, 127, 127, 127, 127, 127, 127, 127, 127, ...   \n",
       "2  [127, 127, 127, 127, 127, 127, 127, 127, 127, ...   \n",
       "3  [127, 127, 127, 127, 127, 127, 127, 127, 127, ...   \n",
       "4  [127, 127, 127, 127, 127, 127, 127, 127, 127, ...   \n",
       "\n",
       "                                                 DUR  \n",
       "0  [90, 90, 90, 90, 90, 90, 90, 90, 90, 90, 90, 9...  \n",
       "1  [30, 30, 30, 30, 30, 30, 30, 30, 30, 30, 30, 3...  \n",
       "2  [150, 150, 150, 150, 150, 150, 150, 150, 150, ...  \n",
       "3  [30, 30, 30, 30, 30, 30, 30, 30, 30, 30, 30, 3...  \n",
       "4  [30, 30, 30, 30, 30, 30, 30, 30, 30, 30, 30, 3...  "
      ],
      "text/html": "<div>\n<style scoped>\n    .dataframe tbody tr th:only-of-type {\n        vertical-align: middle;\n    }\n\n    .dataframe tbody tr th {\n        vertical-align: top;\n    }\n\n    .dataframe thead th {\n        text-align: right;\n    }\n</style>\n<table border=\"1\" class=\"dataframe\">\n  <thead>\n    <tr style=\"text-align: right;\">\n      <th></th>\n      <th>D</th>\n      <th>G</th>\n      <th>W</th>\n      <th>P</th>\n      <th>S</th>\n      <th>VEL</th>\n      <th>T</th>\n      <th>OPE</th>\n      <th>DUR</th>\n    </tr>\n  </thead>\n  <tbody>\n    <tr>\n      <th>0</th>\n      <td>[0, 0, 0, 0, 0, 0, 0, 0, 0, 0, 0, 0, 0, 0, 0, ...</td>\n      <td>[0, 0, 0, 0, 0, 0, 0, 0, 0, 0, 0, 0, 0, 0, 0, ...</td>\n      <td>[0, 0, 0, 0, 0, 0, 0, 0, 0, 0, 0, 0, 0, 0, 0, ...</td>\n      <td>[0, 0, 0, 0, 0, 0, 0, 0, 0, 0, 0, 0, 0, 0, 0, ...</td>\n      <td>[0, 0, 0, 0, 0, 0, 0, 0, 0, 0, 0, 0, 0, 0, 0, ...</td>\n      <td>[64, 64, 64, 64, 64, 64, 64, 64, 64, 64, 64, 6...</td>\n      <td>[0, 1, 2, 3, 4, 5, 6, 7, 8, 9, 10, 11, 12, 13,...</td>\n      <td>[127, 127, 127, 127, 127, 127, 127, 127, 127, ...</td>\n      <td>[90, 90, 90, 90, 90, 90, 90, 90, 90, 90, 90, 9...</td>\n    </tr>\n    <tr>\n      <th>1</th>\n      <td>[0, 0, 0, 0, 0, 0, 0, 0, 0, 0, 0, 0, 0, 0, 0, ...</td>\n      <td>[0, 0, 0, 0, 0, 0, 0, 0, 0, 0, 0, 0, 0, 0, 0, ...</td>\n      <td>[0, 0, 0, 0, 0, 0, 0, 0, 0, 0, 0, 0, 0, 0, 0, ...</td>\n      <td>[0, 0, 0, 0, 0, 0, 0, 0, 0, 0, 0, 0, 0, 0, 0, ...</td>\n      <td>[0, 0, 0, 0, 0, 0, 0, 0, 0, 0, 0, 0, 0, 0, 0, ...</td>\n      <td>[64, 64, 64, 64, 64, 64, 64, 64, 64, 64, 64, 6...</td>\n      <td>[0, 1, 2, 3, 4, 5, 6, 7, 8, 9, 10, 11, 12, 13,...</td>\n      <td>[127, 127, 127, 127, 127, 127, 127, 127, 127, ...</td>\n      <td>[30, 30, 30, 30, 30, 30, 30, 30, 30, 30, 30, 3...</td>\n    </tr>\n    <tr>\n      <th>2</th>\n      <td>[64, 64, 64, 64, 64, 64, 64, 64, 64, 64, 64, 6...</td>\n      <td>[0, 0, 0, 0, 0, 0, 0, 0, 0, 0, 0, 0, 0, 0, 0, ...</td>\n      <td>[0, 0, 0, 0, 0, 0, 0, 0, 0, 0, 0, 0, 0, 0, 0, ...</td>\n      <td>[2418, 2418, 2418, 2418, 2418, 2418, 2418, 241...</td>\n      <td>[0, 0, 0, 0, 0, 0, 0, 0, 0, 0, 0, 0, 0, 0, 0, ...</td>\n      <td>[64, 64, 64, 64, 64, 64, 64, 64, 64, 64, 64, 6...</td>\n      <td>[0, 1, 2, 3, 4, 5, 6, 7, 8, 9, 10, 11, 12, 13,...</td>\n      <td>[127, 127, 127, 127, 127, 127, 127, 127, 127, ...</td>\n      <td>[150, 150, 150, 150, 150, 150, 150, 150, 150, ...</td>\n    </tr>\n    <tr>\n      <th>3</th>\n      <td>[0, 0, 0, 0, 0, 0, 0, 0, 0, 0, 0, 0, 0, 0, 0, ...</td>\n      <td>[0, 0, 0, 0, 0, 0, 0, 0, 0, 0, 0, 0, 0, 0, 0, ...</td>\n      <td>[0, 0, 0, 0, 0, 0, 0, 0, 0, 0, 0, 0, 0, 0, 0, ...</td>\n      <td>[0, 0, 0, 0, 0, 0, 0, 0, 0, 0, 0, 0, 0, 0, 0, ...</td>\n      <td>[0, 0, 0, 0, 0, 0, 0, 0, 0, 0, 0, 0, 0, 0, 0, ...</td>\n      <td>[64, 64, 64, 64, 64, 64, 64, 64, 64, 64, 64, 6...</td>\n      <td>[0, 1, 2, 3, 4, 5, 6, 7, 8, 9, 10, 11, 12, 13,...</td>\n      <td>[127, 127, 127, 127, 127, 127, 127, 127, 127, ...</td>\n      <td>[30, 30, 30, 30, 30, 30, 30, 30, 30, 30, 30, 3...</td>\n    </tr>\n    <tr>\n      <th>4</th>\n      <td>[55, 55, 55, 55, 55, 55, 55, 55, 55, 55, 55, 5...</td>\n      <td>[0, 0, 0, 0, 0, 0, 0, 0, 0, 0, 0, 0, 0, 0, 0, ...</td>\n      <td>[0, 0, 0, 0, 0, 0, 0, 0, 0, 0, 0, 0, 0, 0, 0, ...</td>\n      <td>[0, 0, 0, 0, 0, 0, 0, 0, 0, 0, 0, 0, 0, 0, 0, ...</td>\n      <td>[0, 0, 0, 0, 0, 0, 0, 0, 0, 0, 0, 0, 0, 0, 0, ...</td>\n      <td>[64, 64, 64, 64, 64, 64, 64, 64, 64, 64, 64, 6...</td>\n      <td>[0, 1, 2, 3, 4, 5, 6, 7, 8, 9, 10, 11, 12, 13,...</td>\n      <td>[127, 127, 127, 127, 127, 127, 127, 127, 127, ...</td>\n      <td>[30, 30, 30, 30, 30, 30, 30, 30, 30, 30, 30, 3...</td>\n    </tr>\n  </tbody>\n</table>\n</div>"
     },
     "metadata": {},
     "execution_count": 67
    }
   ],
   "source": [
    "# load saved data\n",
    "VocaloidDataDfs = [resolver.loadFormatedVocaloidData() for resolver in resolverList]\n",
    "\n",
    "# import as dataframe\n",
    "import pandas as pd \n",
    "VocaloidDataDf = pd.DataFrame()\n",
    "for VocaloidDataDfIndex in range(len(VocaloidDataDfs)):\n",
    "    VocaloidDataDf = VocaloidDataDf.append(VocaloidDataDfs[VocaloidDataDfIndex])\n",
    "VocaloidDataDf = VocaloidDataDf.reset_index()\n",
    "VocaloidDataDf = VocaloidDataDf.drop(columns=[\"index\"])\n",
    "VocaloidDataDf.head()"
   ]
  },
  {
   "cell_type": "code",
   "execution_count": 68,
   "metadata": {},
   "outputs": [
    {
     "output_type": "execute_result",
     "data": {
      "text/plain": [
       "3421"
      ]
     },
     "metadata": {},
     "execution_count": 68
    }
   ],
   "source": [
    "import numpy as np\n",
    "dataDict = {i : np.array([np.array(j) for j in VocaloidDataDf.iloc[i]]) for i in range(len(VocaloidDataDf))}\n",
    "len(dataDict)"
   ]
  },
  {
   "cell_type": "code",
   "execution_count": 69,
   "metadata": {},
   "outputs": [
    {
     "output_type": "execute_result",
     "data": {
      "text/plain": [
       "3421"
      ]
     },
     "metadata": {},
     "execution_count": 69
    }
   ],
   "source": [
    "# get the rank list from our data list file (we has already import as json)\n",
    "rankList = []\n",
    "for resolverIndex in range(len(resolverList)):\n",
    "    noteNum = resolverList[resolverIndex].noteNum\n",
    "    rank = source[resolverIndex][\"rank\"]\n",
    "    for i in range(noteNum):\n",
    "        rankList+=[rank]\n",
    "## format to data frame\n",
    "rankDf = pd.DataFrame({\"RANK\":rankList})\n",
    "\n",
    "rankDf.size"
   ]
  },
  {
   "source": [
    "## Use K-NN to generate our loss function"
   ],
   "cell_type": "markdown",
   "metadata": {}
  },
  {
   "cell_type": "code",
   "execution_count": null,
   "metadata": {},
   "outputs": [],
   "source": []
  },
  {
   "source": [
    "## Covalutional layer"
   ],
   "cell_type": "markdown",
   "metadata": {}
  },
  {
   "cell_type": "code",
   "execution_count": null,
   "metadata": {},
   "outputs": [],
   "source": []
  },
  {
   "source": [
    "## Pooling layer"
   ],
   "cell_type": "markdown",
   "metadata": {}
  },
  {
   "cell_type": "code",
   "execution_count": null,
   "metadata": {},
   "outputs": [],
   "source": []
  },
  {
   "source": [
    "## Neral Network layer"
   ],
   "cell_type": "markdown",
   "metadata": {}
  },
  {
   "cell_type": "code",
   "execution_count": null,
   "metadata": {},
   "outputs": [],
   "source": []
  },
  {
   "source": [
    "### Forward progress layer"
   ],
   "cell_type": "markdown",
   "metadata": {}
  },
  {
   "cell_type": "code",
   "execution_count": null,
   "metadata": {},
   "outputs": [],
   "source": []
  },
  {
   "source": [
    "### Back progress layer"
   ],
   "cell_type": "markdown",
   "metadata": {}
  },
  {
   "cell_type": "code",
   "execution_count": null,
   "metadata": {},
   "outputs": [],
   "source": []
  },
  {
   "source": [
    "## Training Step"
   ],
   "cell_type": "markdown",
   "metadata": {}
  },
  {
   "cell_type": "code",
   "execution_count": null,
   "metadata": {},
   "outputs": [],
   "source": []
  },
  {
   "source": [
    "## Testing Step"
   ],
   "cell_type": "markdown",
   "metadata": {}
  },
  {
   "cell_type": "code",
   "execution_count": null,
   "metadata": {},
   "outputs": [],
   "source": []
  },
  {
   "source": [
    "## Conclusion Step"
   ],
   "cell_type": "markdown",
   "metadata": {}
  },
  {
   "cell_type": "code",
   "execution_count": null,
   "metadata": {},
   "outputs": [],
   "source": []
  }
 ]
}