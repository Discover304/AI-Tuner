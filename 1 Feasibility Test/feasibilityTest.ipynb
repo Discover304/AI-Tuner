{
 "metadata": {
  "language_info": {
   "codemirror_mode": {
    "name": "ipython",
    "version": 3
   },
   "file_extension": ".py",
   "mimetype": "text/x-python",
   "name": "python",
   "nbconvert_exporter": "python",
   "pygments_lexer": "ipython3",
   "version": "3.8.7-final"
  },
  "orig_nbformat": 2,
  "kernelspec": {
   "name": "python3",
   "display_name": "Python 3.8.7 64-bit",
   "metadata": {
    "interpreter": {
     "hash": "5f97780e2f1c6cca63f92ebe0450dc057437ec540d8a15c508bbd5fdacc3ae87"
    }
   }
  }
 },
 "nbformat": 4,
 "nbformat_minor": 2,
 "cells": [
  {
   "source": [
    "# AI tuner feasibility test - Chinese version\n",
    "\n",
    "The purpose of this test is to show that there is correlation between modifiable argument in Vocaloid and the score of the .\n"
   ],
   "cell_type": "markdown",
   "metadata": {}
  },
  {
   "source": [
    "## Prepare data\n",
    "In this part we will get a formated vsqx data in dictionary with 2 dimension infromation note and id.\n",
    "\n",
    "1. import vocaloid project (VCP) and extract all test related arguments (arg)\n",
    "2. format all args to 960 length list where 960 is the time stamps"
   ],
   "cell_type": "markdown",
   "metadata": {}
  },
  {
   "cell_type": "code",
   "execution_count": 100,
   "metadata": {},
   "outputs": [],
   "source": [
    "import sys, os\n",
    "sys.path.append(os.getcwd())\n",
    "\n",
    "from vocaloidDao import vocaloidVSQXResolver\n",
    "import json\n",
    "\n",
    "dataPath = os.path.join(os.getcwd(), 'VocaloidVSQXCollection')\n",
    "\n",
    "with open(os.path.join(dataPath,\"source.json\"), 'r') as f:\n",
    "    source = json.load(f)\n",
    "\n",
    "fileList = [source[\"source-\"+str(sourceIndex+1)][\"file\"] for sourceIndex in range(len(source))]\n",
    "\n",
    "resolverList = [vocaloidVSQXResolver(os.path.join(dataPath, fileName)) for fileName in fileList]"
   ]
  },
  {
   "cell_type": "code",
   "execution_count": 101,
   "metadata": {},
   "outputs": [
    {
     "output_type": "stream",
     "name": "stdout",
     "text": [
      "local computer has: 16 cores\n\nParallal computing takes 0.00 seconds to finish.\n\n"
     ]
    }
   ],
   "source": [
    "from vocaloidDao import parallelResolve\n",
    "parallelResolve(resolverList)\n"
   ]
  },
  {
   "cell_type": "code",
   "execution_count": 102,
   "metadata": {},
   "outputs": [
    {
     "output_type": "stream",
     "name": "stdout",
     "text": [
      "Log: loaded \n",
      "Log: loaded \n",
      "Log: loaded \n",
      "Log: loaded \n",
      "Log: loaded \n",
      "Log: loaded \n",
      "Log: loaded \n",
      "Log: loaded \n"
     ]
    }
   ],
   "source": [
    "VocaloidDataDfs = [resolver.loadFormatedVocaloidData() for resolver in resolverList]"
   ]
  },
  {
   "cell_type": "code",
   "execution_count": 229,
   "metadata": {},
   "outputs": [
    {
     "output_type": "execute_result",
     "data": {
      "text/plain": [
       "                                                   D  \\\n",
       "0  [0, 0, 0, 0, 0, 0, 0, 0, 0, 0, 0, 0, 0, 0, 0, ...   \n",
       "1  [0, 0, 0, 0, 0, 0, 0, 0, 0, 0, 0, 0, 0, 0, 0, ...   \n",
       "2  [0, 0, 0, 0, 0, 0, 0, 0, 0, 0, 0, 0, 0, 0, 0, ...   \n",
       "3  [0, 0, 0, 0, 0, 0, 0, 0, 0, 0, 0, 0, 0, 0, 0, ...   \n",
       "4  [0, 0, 0, 0, 0, 0, 0, 0, 0, 0, 0, 0, 0, 0, 0, ...   \n",
       "\n",
       "                                                   G  \\\n",
       "0  [0, 0, 0, 0, 0, 0, 0, 0, 0, 0, 0, 0, 0, 0, 0, ...   \n",
       "1  [0, 0, 0, 0, 0, 0, 0, 0, 0, 0, 0, 0, 0, 0, 0, ...   \n",
       "2  [0, 0, 0, 0, 0, 0, 0, 0, 0, 0, 0, 0, 0, 0, 0, ...   \n",
       "3  [0, 0, 0, 0, 0, 0, 0, 0, 0, 0, 0, 0, 0, 0, 0, ...   \n",
       "4  [0, 0, 0, 0, 0, 0, 0, 0, 0, 0, 0, 0, 0, 0, 0, ...   \n",
       "\n",
       "                                                   W  \\\n",
       "0  [0, 0, 0, 0, 0, 0, 0, 0, 0, 0, 0, 0, 0, 0, 0, ...   \n",
       "1  [0, 0, 0, 0, 0, 0, 0, 0, 0, 0, 0, 0, 0, 0, 0, ...   \n",
       "2  [0, 0, 0, 0, 0, 0, 0, 0, 0, 0, 0, 0, 0, 0, 0, ...   \n",
       "3  [0, 0, 0, 0, 0, 0, 0, 0, 0, 0, 0, 0, 0, 0, 0, ...   \n",
       "4  [0, 0, 0, 0, 0, 0, 0, 0, 0, 0, 0, 0, 0, 0, 0, ...   \n",
       "\n",
       "                                                   P  \\\n",
       "0  [0, 0, 0, 0, 0, 0, 0, 0, 0, 0, 0, 0, 0, 0, 0, ...   \n",
       "1  [0, 0, 0, 0, 0, 0, 0, 0, 0, 0, 0, 0, 0, 0, 0, ...   \n",
       "2  [0, 0, 0, 0, 0, 0, 0, 0, 0, 0, 0, 0, 0, 0, 0, ...   \n",
       "3  [0, 0, 0, 0, 0, 0, 0, 0, 0, 0, 0, 0, 0, 0, 0, ...   \n",
       "4  [0, 0, 0, 0, 0, 0, 0, 0, 0, 0, 0, 0, 0, 0, 0, ...   \n",
       "\n",
       "                                                   S  \\\n",
       "0  [0, 0, 0, 0, 0, 0, 0, 0, 0, 0, 0, 0, 0, 0, 0, ...   \n",
       "1  [0, 0, 0, 0, 0, 0, 0, 0, 0, 0, 0, 0, 0, 0, 0, ...   \n",
       "2  [0, 0, 0, 0, 0, 0, 0, 0, 0, 0, 0, 0, 0, 0, 0, ...   \n",
       "3  [0, 0, 0, 0, 0, 0, 0, 0, 0, 0, 0, 0, 0, 0, 0, ...   \n",
       "4  [0, 0, 0, 0, 0, 0, 0, 0, 0, 0, 0, 0, 0, 0, 0, ...   \n",
       "\n",
       "                                                 VEL  \\\n",
       "0  [64, 64, 64, 64, 64, 64, 64, 64, 64, 64, 64, 6...   \n",
       "1  [64, 64, 64, 64, 64, 64, 64, 64, 64, 64, 64, 6...   \n",
       "2  [64, 64, 64, 64, 64, 64, 64, 64, 64, 64, 64, 6...   \n",
       "3  [64, 64, 64, 64, 64, 64, 64, 64, 64, 64, 64, 6...   \n",
       "4  [64, 64, 64, 64, 64, 64, 64, 64, 64, 64, 64, 6...   \n",
       "\n",
       "                                                   T  \\\n",
       "0  [0, 1, 2, 3, 4, 5, 6, 7, 8, 9, 10, 11, 12, 13,...   \n",
       "1  [0, 1, 2, 3, 4, 5, 6, 7, 8, 9, 10, 11, 12, 13,...   \n",
       "2  [0, 1, 2, 3, 4, 5, 6, 7, 8, 9, 10, 11, 12, 13,...   \n",
       "3  [0, 1, 2, 3, 4, 5, 6, 7, 8, 9, 10, 11, 12, 13,...   \n",
       "4  [0, 1, 2, 3, 4, 5, 6, 7, 8, 9, 10, 11, 12, 13,...   \n",
       "\n",
       "                                                 OPE  \\\n",
       "0  [127, 127, 127, 127, 127, 127, 127, 127, 127, ...   \n",
       "1  [127, 127, 127, 127, 127, 127, 127, 127, 127, ...   \n",
       "2  [127, 127, 127, 127, 127, 127, 127, 127, 127, ...   \n",
       "3  [127, 127, 127, 127, 127, 127, 127, 127, 127, ...   \n",
       "4  [127, 127, 127, 127, 127, 127, 127, 127, 127, ...   \n",
       "\n",
       "                                                 DUR  \n",
       "0  [60, 60, 60, 60, 60, 60, 60, 60, 60, 60, 60, 6...  \n",
       "1  [390, 390, 390, 390, 390, 390, 390, 390, 390, ...  \n",
       "2  [90, 90, 90, 90, 90, 90, 90, 90, 90, 90, 90, 9...  \n",
       "3  [180, 180, 180, 180, 180, 180, 180, 180, 180, ...  \n",
       "4  [60, 60, 60, 60, 60, 60, 60, 60, 60, 60, 60, 6...  "
      ],
      "text/html": "<div>\n<style scoped>\n    .dataframe tbody tr th:only-of-type {\n        vertical-align: middle;\n    }\n\n    .dataframe tbody tr th {\n        vertical-align: top;\n    }\n\n    .dataframe thead th {\n        text-align: right;\n    }\n</style>\n<table border=\"1\" class=\"dataframe\">\n  <thead>\n    <tr style=\"text-align: right;\">\n      <th></th>\n      <th>D</th>\n      <th>G</th>\n      <th>W</th>\n      <th>P</th>\n      <th>S</th>\n      <th>VEL</th>\n      <th>T</th>\n      <th>OPE</th>\n      <th>DUR</th>\n    </tr>\n  </thead>\n  <tbody>\n    <tr>\n      <th>0</th>\n      <td>[0, 0, 0, 0, 0, 0, 0, 0, 0, 0, 0, 0, 0, 0, 0, ...</td>\n      <td>[0, 0, 0, 0, 0, 0, 0, 0, 0, 0, 0, 0, 0, 0, 0, ...</td>\n      <td>[0, 0, 0, 0, 0, 0, 0, 0, 0, 0, 0, 0, 0, 0, 0, ...</td>\n      <td>[0, 0, 0, 0, 0, 0, 0, 0, 0, 0, 0, 0, 0, 0, 0, ...</td>\n      <td>[0, 0, 0, 0, 0, 0, 0, 0, 0, 0, 0, 0, 0, 0, 0, ...</td>\n      <td>[64, 64, 64, 64, 64, 64, 64, 64, 64, 64, 64, 6...</td>\n      <td>[0, 1, 2, 3, 4, 5, 6, 7, 8, 9, 10, 11, 12, 13,...</td>\n      <td>[127, 127, 127, 127, 127, 127, 127, 127, 127, ...</td>\n      <td>[60, 60, 60, 60, 60, 60, 60, 60, 60, 60, 60, 6...</td>\n    </tr>\n    <tr>\n      <th>1</th>\n      <td>[0, 0, 0, 0, 0, 0, 0, 0, 0, 0, 0, 0, 0, 0, 0, ...</td>\n      <td>[0, 0, 0, 0, 0, 0, 0, 0, 0, 0, 0, 0, 0, 0, 0, ...</td>\n      <td>[0, 0, 0, 0, 0, 0, 0, 0, 0, 0, 0, 0, 0, 0, 0, ...</td>\n      <td>[0, 0, 0, 0, 0, 0, 0, 0, 0, 0, 0, 0, 0, 0, 0, ...</td>\n      <td>[0, 0, 0, 0, 0, 0, 0, 0, 0, 0, 0, 0, 0, 0, 0, ...</td>\n      <td>[64, 64, 64, 64, 64, 64, 64, 64, 64, 64, 64, 6...</td>\n      <td>[0, 1, 2, 3, 4, 5, 6, 7, 8, 9, 10, 11, 12, 13,...</td>\n      <td>[127, 127, 127, 127, 127, 127, 127, 127, 127, ...</td>\n      <td>[390, 390, 390, 390, 390, 390, 390, 390, 390, ...</td>\n    </tr>\n    <tr>\n      <th>2</th>\n      <td>[0, 0, 0, 0, 0, 0, 0, 0, 0, 0, 0, 0, 0, 0, 0, ...</td>\n      <td>[0, 0, 0, 0, 0, 0, 0, 0, 0, 0, 0, 0, 0, 0, 0, ...</td>\n      <td>[0, 0, 0, 0, 0, 0, 0, 0, 0, 0, 0, 0, 0, 0, 0, ...</td>\n      <td>[0, 0, 0, 0, 0, 0, 0, 0, 0, 0, 0, 0, 0, 0, 0, ...</td>\n      <td>[0, 0, 0, 0, 0, 0, 0, 0, 0, 0, 0, 0, 0, 0, 0, ...</td>\n      <td>[64, 64, 64, 64, 64, 64, 64, 64, 64, 64, 64, 6...</td>\n      <td>[0, 1, 2, 3, 4, 5, 6, 7, 8, 9, 10, 11, 12, 13,...</td>\n      <td>[127, 127, 127, 127, 127, 127, 127, 127, 127, ...</td>\n      <td>[90, 90, 90, 90, 90, 90, 90, 90, 90, 90, 90, 9...</td>\n    </tr>\n    <tr>\n      <th>3</th>\n      <td>[0, 0, 0, 0, 0, 0, 0, 0, 0, 0, 0, 0, 0, 0, 0, ...</td>\n      <td>[0, 0, 0, 0, 0, 0, 0, 0, 0, 0, 0, 0, 0, 0, 0, ...</td>\n      <td>[0, 0, 0, 0, 0, 0, 0, 0, 0, 0, 0, 0, 0, 0, 0, ...</td>\n      <td>[0, 0, 0, 0, 0, 0, 0, 0, 0, 0, 0, 0, 0, 0, 0, ...</td>\n      <td>[0, 0, 0, 0, 0, 0, 0, 0, 0, 0, 0, 0, 0, 0, 0, ...</td>\n      <td>[64, 64, 64, 64, 64, 64, 64, 64, 64, 64, 64, 6...</td>\n      <td>[0, 1, 2, 3, 4, 5, 6, 7, 8, 9, 10, 11, 12, 13,...</td>\n      <td>[127, 127, 127, 127, 127, 127, 127, 127, 127, ...</td>\n      <td>[180, 180, 180, 180, 180, 180, 180, 180, 180, ...</td>\n    </tr>\n    <tr>\n      <th>4</th>\n      <td>[0, 0, 0, 0, 0, 0, 0, 0, 0, 0, 0, 0, 0, 0, 0, ...</td>\n      <td>[0, 0, 0, 0, 0, 0, 0, 0, 0, 0, 0, 0, 0, 0, 0, ...</td>\n      <td>[0, 0, 0, 0, 0, 0, 0, 0, 0, 0, 0, 0, 0, 0, 0, ...</td>\n      <td>[0, 0, 0, 0, 0, 0, 0, 0, 0, 0, 0, 0, 0, 0, 0, ...</td>\n      <td>[0, 0, 0, 0, 0, 0, 0, 0, 0, 0, 0, 0, 0, 0, 0, ...</td>\n      <td>[64, 64, 64, 64, 64, 64, 64, 64, 64, 64, 64, 6...</td>\n      <td>[0, 1, 2, 3, 4, 5, 6, 7, 8, 9, 10, 11, 12, 13,...</td>\n      <td>[127, 127, 127, 127, 127, 127, 127, 127, 127, ...</td>\n      <td>[60, 60, 60, 60, 60, 60, 60, 60, 60, 60, 60, 6...</td>\n    </tr>\n  </tbody>\n</table>\n</div>"
     },
     "metadata": {},
     "execution_count": 229
    }
   ],
   "source": [
    "import pandas as pd \n",
    "VocaloidDataDf = pd.DataFrame()\n",
    "for VocaloidDataDfIndex in range(len(VocaloidDataDfs)):\n",
    "    VocaloidDataDf = VocaloidDataDf.append(VocaloidDataDfs[VocaloidDataDfIndex])\n",
    "VocaloidDataDf.head()\n",
    "    "
   ]
  },
  {
   "cell_type": "code",
   "execution_count": 104,
   "metadata": {},
   "outputs": [
    {
     "output_type": "execute_result",
     "data": {
      "text/plain": [
       "19422720"
      ]
     },
     "metadata": {},
     "execution_count": 104
    }
   ],
   "source": [
    "2248*9*960"
   ]
  },
  {
   "source": [
    "## Prepare before evaluation\n",
    "\n",
    "The above dataframe is scary, with 19 million data as 3 dimension. We have to reduce the data by extract the picture of each 960 vector, and join to the table. So, the next challenge we face is how to extract this image.\n",
    "\n",
    "We decide to take following data:\n",
    "\n",
    "> VEL OPE DUR\n",
    ">\n",
    "> for D G W P S we take their:\n",
    ">\n",
    "> with 0s: mean, sd\n",
    ">\n",
    "> without 0s: min, mid, max, mean, sd, mod\n",
    "\n",
    "See more: https://www.cnblogs.com/xingshansi/p/6815217.html\n"
   ],
   "cell_type": "markdown",
   "metadata": {}
  },
  {
   "cell_type": "code",
   "execution_count": 105,
   "metadata": {},
   "outputs": [
    {
     "output_type": "execute_result",
     "data": {
      "text/plain": [
       "Index(['index', 'D', 'G', 'W', 'P', 'S', 'VEL', 'T', 'OPE', 'DUR'], dtype='object')"
      ]
     },
     "metadata": {},
     "execution_count": 105
    }
   ],
   "source": [
    "VocaloidDataDf = VocaloidDataDf.reset_index()\n",
    "VocaloidDataDf.columns"
   ]
  },
  {
   "cell_type": "code",
   "execution_count": 227,
   "metadata": {},
   "outputs": [
    {
     "output_type": "execute_result",
     "data": {
      "text/plain": [
       "   VEL-SINGLE  OPE-SINGLE  DUR-SINGLE\n",
       "0          64         127          60\n",
       "1          64         127         390\n",
       "2          64         127          90\n",
       "3          64         127         180\n",
       "4          64         127          60"
      ],
      "text/html": "<div>\n<style scoped>\n    .dataframe tbody tr th:only-of-type {\n        vertical-align: middle;\n    }\n\n    .dataframe tbody tr th {\n        vertical-align: top;\n    }\n\n    .dataframe thead th {\n        text-align: right;\n    }\n</style>\n<table border=\"1\" class=\"dataframe\">\n  <thead>\n    <tr style=\"text-align: right;\">\n      <th></th>\n      <th>VEL-SINGLE</th>\n      <th>OPE-SINGLE</th>\n      <th>DUR-SINGLE</th>\n    </tr>\n  </thead>\n  <tbody>\n    <tr>\n      <th>0</th>\n      <td>64</td>\n      <td>127</td>\n      <td>60</td>\n    </tr>\n    <tr>\n      <th>1</th>\n      <td>64</td>\n      <td>127</td>\n      <td>390</td>\n    </tr>\n    <tr>\n      <th>2</th>\n      <td>64</td>\n      <td>127</td>\n      <td>90</td>\n    </tr>\n    <tr>\n      <th>3</th>\n      <td>64</td>\n      <td>127</td>\n      <td>180</td>\n    </tr>\n    <tr>\n      <th>4</th>\n      <td>64</td>\n      <td>127</td>\n      <td>60</td>\n    </tr>\n  </tbody>\n</table>\n</div>"
     },
     "metadata": {},
     "execution_count": 227
    }
   ],
   "source": [
    "discreteArgsDf = VocaloidDataDf[[\"VEL\",\"OPE\",\"DUR\"]].applymap(lambda x : x[0])\n",
    "discreteArgsDf.columns = discreteArgsDf.columns.map(lambda x : x+(\"-SINGLE\"))\n",
    "discreteArgsDf.head()"
   ]
  },
  {
   "cell_type": "code",
   "execution_count": 226,
   "metadata": {},
   "outputs": [
    {
     "output_type": "execute_result",
     "data": {
      "text/plain": [
       "   D-MEAN+0s  G-MEAN+0s  W-MEAN+0s  P-MEAN+0s  S-MEAN+0s  D-SD+0s  G-SD+0s  \\\n",
       "0        0.0        0.0        0.0        0.0        0.0      0.0      0.0   \n",
       "1        0.0        0.0        0.0        0.0        0.0      0.0      0.0   \n",
       "2        0.0        0.0        0.0        0.0        0.0      0.0      0.0   \n",
       "3        0.0        0.0        0.0        0.0        0.0      0.0      0.0   \n",
       "4        0.0        0.0        0.0        0.0        0.0      0.0      0.0   \n",
       "\n",
       "   W-SD+0s  P-SD+0s  S-SD+0s  ...  D-MID  G-MID  W-MID  P-MID  S-MID  D-MOD  \\\n",
       "0      0.0      0.0      0.0  ...    0.0    0.0    0.0    0.0    0.0      0   \n",
       "1      0.0      0.0      0.0  ...    0.0    0.0    0.0    0.0    0.0      0   \n",
       "2      0.0      0.0      0.0  ...    0.0    0.0    0.0    0.0    0.0      0   \n",
       "3      0.0      0.0      0.0  ...    0.0    0.0    0.0    0.0    0.0      0   \n",
       "4      0.0      0.0      0.0  ...    0.0    0.0    0.0    0.0    0.0      0   \n",
       "\n",
       "   G-MOD  W-MOD  P-MOD  S-MOD  \n",
       "0      0      0      0      0  \n",
       "1      0      0      0      0  \n",
       "2      0      0      0      0  \n",
       "3      0      0      0      0  \n",
       "4      0      0      0      0  \n",
       "\n",
       "[5 rows x 40 columns]"
      ],
      "text/html": "<div>\n<style scoped>\n    .dataframe tbody tr th:only-of-type {\n        vertical-align: middle;\n    }\n\n    .dataframe tbody tr th {\n        vertical-align: top;\n    }\n\n    .dataframe thead th {\n        text-align: right;\n    }\n</style>\n<table border=\"1\" class=\"dataframe\">\n  <thead>\n    <tr style=\"text-align: right;\">\n      <th></th>\n      <th>D-MEAN+0s</th>\n      <th>G-MEAN+0s</th>\n      <th>W-MEAN+0s</th>\n      <th>P-MEAN+0s</th>\n      <th>S-MEAN+0s</th>\n      <th>D-SD+0s</th>\n      <th>G-SD+0s</th>\n      <th>W-SD+0s</th>\n      <th>P-SD+0s</th>\n      <th>S-SD+0s</th>\n      <th>...</th>\n      <th>D-MID</th>\n      <th>G-MID</th>\n      <th>W-MID</th>\n      <th>P-MID</th>\n      <th>S-MID</th>\n      <th>D-MOD</th>\n      <th>G-MOD</th>\n      <th>W-MOD</th>\n      <th>P-MOD</th>\n      <th>S-MOD</th>\n    </tr>\n  </thead>\n  <tbody>\n    <tr>\n      <th>0</th>\n      <td>0.0</td>\n      <td>0.0</td>\n      <td>0.0</td>\n      <td>0.0</td>\n      <td>0.0</td>\n      <td>0.0</td>\n      <td>0.0</td>\n      <td>0.0</td>\n      <td>0.0</td>\n      <td>0.0</td>\n      <td>...</td>\n      <td>0.0</td>\n      <td>0.0</td>\n      <td>0.0</td>\n      <td>0.0</td>\n      <td>0.0</td>\n      <td>0</td>\n      <td>0</td>\n      <td>0</td>\n      <td>0</td>\n      <td>0</td>\n    </tr>\n    <tr>\n      <th>1</th>\n      <td>0.0</td>\n      <td>0.0</td>\n      <td>0.0</td>\n      <td>0.0</td>\n      <td>0.0</td>\n      <td>0.0</td>\n      <td>0.0</td>\n      <td>0.0</td>\n      <td>0.0</td>\n      <td>0.0</td>\n      <td>...</td>\n      <td>0.0</td>\n      <td>0.0</td>\n      <td>0.0</td>\n      <td>0.0</td>\n      <td>0.0</td>\n      <td>0</td>\n      <td>0</td>\n      <td>0</td>\n      <td>0</td>\n      <td>0</td>\n    </tr>\n    <tr>\n      <th>2</th>\n      <td>0.0</td>\n      <td>0.0</td>\n      <td>0.0</td>\n      <td>0.0</td>\n      <td>0.0</td>\n      <td>0.0</td>\n      <td>0.0</td>\n      <td>0.0</td>\n      <td>0.0</td>\n      <td>0.0</td>\n      <td>...</td>\n      <td>0.0</td>\n      <td>0.0</td>\n      <td>0.0</td>\n      <td>0.0</td>\n      <td>0.0</td>\n      <td>0</td>\n      <td>0</td>\n      <td>0</td>\n      <td>0</td>\n      <td>0</td>\n    </tr>\n    <tr>\n      <th>3</th>\n      <td>0.0</td>\n      <td>0.0</td>\n      <td>0.0</td>\n      <td>0.0</td>\n      <td>0.0</td>\n      <td>0.0</td>\n      <td>0.0</td>\n      <td>0.0</td>\n      <td>0.0</td>\n      <td>0.0</td>\n      <td>...</td>\n      <td>0.0</td>\n      <td>0.0</td>\n      <td>0.0</td>\n      <td>0.0</td>\n      <td>0.0</td>\n      <td>0</td>\n      <td>0</td>\n      <td>0</td>\n      <td>0</td>\n      <td>0</td>\n    </tr>\n    <tr>\n      <th>4</th>\n      <td>0.0</td>\n      <td>0.0</td>\n      <td>0.0</td>\n      <td>0.0</td>\n      <td>0.0</td>\n      <td>0.0</td>\n      <td>0.0</td>\n      <td>0.0</td>\n      <td>0.0</td>\n      <td>0.0</td>\n      <td>...</td>\n      <td>0.0</td>\n      <td>0.0</td>\n      <td>0.0</td>\n      <td>0.0</td>\n      <td>0.0</td>\n      <td>0</td>\n      <td>0</td>\n      <td>0</td>\n      <td>0</td>\n      <td>0</td>\n    </tr>\n  </tbody>\n</table>\n<p>5 rows × 40 columns</p>\n</div>"
     },
     "metadata": {},
     "execution_count": 226
    }
   ],
   "source": [
    "import numpy as np\n",
    "\n",
    "# mean with 0s\n",
    "continuousArgsDf = pd.DataFrame()\n",
    "continuousArgsDf = VocaloidDataDf[[\"D\",\"G\",\"W\",\"P\",\"S\"]].applymap(np.mean)\n",
    "continuousArgsDf.columns = continuousArgsDf.columns.map(lambda x : x+(\"-MEAN+0s\"))\n",
    "\n",
    "# sd with 0s\n",
    "continuousArgsDfTemp = VocaloidDataDf[[\"D\",\"G\",\"W\",\"P\",\"S\"]].applymap(np.std)\n",
    "continuousArgsDfTemp.columns = continuousArgsDfTemp.columns.map(lambda x : x+(\"-SD+0s\"))\n",
    "continuousArgsDf = continuousArgsDf.join(continuousArgsDfTemp,on=continuousArgsDf.index)\n",
    "\n",
    "# without 0s\n",
    "\n",
    "def appendAspect(dict, continuousArgsDf):\n",
    "    for key in dict.keys():\n",
    "        continuousArgsDfTemp = VocaloidDataDf[[\"D\",\"G\",\"W\",\"P\",\"S\"]].applymap(lambda x : dict[key]([i for i in x if i!=0]+[0]))\n",
    "        continuousArgsDfTemp.columns = continuousArgsDfTemp.columns.map(lambda x : x+(key))\n",
    "        continuousArgsDf = continuousArgsDf.join(continuousArgsDfTemp,on=continuousArgsDf.index)\n",
    "    return continuousArgsDf\n",
    "\n",
    "from scipy import stats\n",
    "\n",
    "aspectDict = {\"-MEAN\": np.mean,\"-SD\": np.std,\"-MIN\": np.min,\"-MAX\": np.max,\"-MID\": np.median,\"-MOD\": lambda x : stats.mode(x)[0][0]}\n",
    "\n",
    "continuousArgsDf = appendAspect(aspectDict,continuousArgsDf)\n",
    "\n",
    "continuousArgsDf.head()"
   ]
  },
  {
   "cell_type": "code",
   "execution_count": 225,
   "metadata": {},
   "outputs": [
    {
     "output_type": "execute_result",
     "data": {
      "text/plain": [
       "   VEL-SINGLE  OPE-SINGLE  DUR-SINGLE  D-MEAN+0s  G-MEAN+0s  W-MEAN+0s  \\\n",
       "0          64         127          60        0.0        0.0        0.0   \n",
       "1          64         127         390        0.0        0.0        0.0   \n",
       "2          64         127          90        0.0        0.0        0.0   \n",
       "3          64         127         180        0.0        0.0        0.0   \n",
       "4          64         127          60        0.0        0.0        0.0   \n",
       "\n",
       "   P-MEAN+0s  S-MEAN+0s  D-SD+0s  G-SD+0s  ...  D-MID  G-MID  W-MID  P-MID  \\\n",
       "0        0.0        0.0      0.0      0.0  ...    0.0    0.0    0.0    0.0   \n",
       "1        0.0        0.0      0.0      0.0  ...    0.0    0.0    0.0    0.0   \n",
       "2        0.0        0.0      0.0      0.0  ...    0.0    0.0    0.0    0.0   \n",
       "3        0.0        0.0      0.0      0.0  ...    0.0    0.0    0.0    0.0   \n",
       "4        0.0        0.0      0.0      0.0  ...    0.0    0.0    0.0    0.0   \n",
       "\n",
       "   S-MID  D-MOD  G-MOD  W-MOD  P-MOD  S-MOD  \n",
       "0    0.0      0      0      0      0      0  \n",
       "1    0.0      0      0      0      0      0  \n",
       "2    0.0      0      0      0      0      0  \n",
       "3    0.0      0      0      0      0      0  \n",
       "4    0.0      0      0      0      0      0  \n",
       "\n",
       "[5 rows x 43 columns]"
      ],
      "text/html": "<div>\n<style scoped>\n    .dataframe tbody tr th:only-of-type {\n        vertical-align: middle;\n    }\n\n    .dataframe tbody tr th {\n        vertical-align: top;\n    }\n\n    .dataframe thead th {\n        text-align: right;\n    }\n</style>\n<table border=\"1\" class=\"dataframe\">\n  <thead>\n    <tr style=\"text-align: right;\">\n      <th></th>\n      <th>VEL-SINGLE</th>\n      <th>OPE-SINGLE</th>\n      <th>DUR-SINGLE</th>\n      <th>D-MEAN+0s</th>\n      <th>G-MEAN+0s</th>\n      <th>W-MEAN+0s</th>\n      <th>P-MEAN+0s</th>\n      <th>S-MEAN+0s</th>\n      <th>D-SD+0s</th>\n      <th>G-SD+0s</th>\n      <th>...</th>\n      <th>D-MID</th>\n      <th>G-MID</th>\n      <th>W-MID</th>\n      <th>P-MID</th>\n      <th>S-MID</th>\n      <th>D-MOD</th>\n      <th>G-MOD</th>\n      <th>W-MOD</th>\n      <th>P-MOD</th>\n      <th>S-MOD</th>\n    </tr>\n  </thead>\n  <tbody>\n    <tr>\n      <th>0</th>\n      <td>64</td>\n      <td>127</td>\n      <td>60</td>\n      <td>0.0</td>\n      <td>0.0</td>\n      <td>0.0</td>\n      <td>0.0</td>\n      <td>0.0</td>\n      <td>0.0</td>\n      <td>0.0</td>\n      <td>...</td>\n      <td>0.0</td>\n      <td>0.0</td>\n      <td>0.0</td>\n      <td>0.0</td>\n      <td>0.0</td>\n      <td>0</td>\n      <td>0</td>\n      <td>0</td>\n      <td>0</td>\n      <td>0</td>\n    </tr>\n    <tr>\n      <th>1</th>\n      <td>64</td>\n      <td>127</td>\n      <td>390</td>\n      <td>0.0</td>\n      <td>0.0</td>\n      <td>0.0</td>\n      <td>0.0</td>\n      <td>0.0</td>\n      <td>0.0</td>\n      <td>0.0</td>\n      <td>...</td>\n      <td>0.0</td>\n      <td>0.0</td>\n      <td>0.0</td>\n      <td>0.0</td>\n      <td>0.0</td>\n      <td>0</td>\n      <td>0</td>\n      <td>0</td>\n      <td>0</td>\n      <td>0</td>\n    </tr>\n    <tr>\n      <th>2</th>\n      <td>64</td>\n      <td>127</td>\n      <td>90</td>\n      <td>0.0</td>\n      <td>0.0</td>\n      <td>0.0</td>\n      <td>0.0</td>\n      <td>0.0</td>\n      <td>0.0</td>\n      <td>0.0</td>\n      <td>...</td>\n      <td>0.0</td>\n      <td>0.0</td>\n      <td>0.0</td>\n      <td>0.0</td>\n      <td>0.0</td>\n      <td>0</td>\n      <td>0</td>\n      <td>0</td>\n      <td>0</td>\n      <td>0</td>\n    </tr>\n    <tr>\n      <th>3</th>\n      <td>64</td>\n      <td>127</td>\n      <td>180</td>\n      <td>0.0</td>\n      <td>0.0</td>\n      <td>0.0</td>\n      <td>0.0</td>\n      <td>0.0</td>\n      <td>0.0</td>\n      <td>0.0</td>\n      <td>...</td>\n      <td>0.0</td>\n      <td>0.0</td>\n      <td>0.0</td>\n      <td>0.0</td>\n      <td>0.0</td>\n      <td>0</td>\n      <td>0</td>\n      <td>0</td>\n      <td>0</td>\n      <td>0</td>\n    </tr>\n    <tr>\n      <th>4</th>\n      <td>64</td>\n      <td>127</td>\n      <td>60</td>\n      <td>0.0</td>\n      <td>0.0</td>\n      <td>0.0</td>\n      <td>0.0</td>\n      <td>0.0</td>\n      <td>0.0</td>\n      <td>0.0</td>\n      <td>...</td>\n      <td>0.0</td>\n      <td>0.0</td>\n      <td>0.0</td>\n      <td>0.0</td>\n      <td>0.0</td>\n      <td>0</td>\n      <td>0</td>\n      <td>0</td>\n      <td>0</td>\n      <td>0</td>\n    </tr>\n  </tbody>\n</table>\n<p>5 rows × 43 columns</p>\n</div>"
     },
     "metadata": {},
     "execution_count": 225
    }
   ],
   "source": [
    "argsDf = pd.DataFrame.join(discreteArgsDf, continuousArgsDf, on=discreteArgsDf.index)\n",
    "\n",
    "# print(ArgsDf.max())\n",
    "argsDf.head()"
   ]
  },
  {
   "cell_type": "code",
   "execution_count": 228,
   "metadata": {},
   "outputs": [
    {
     "output_type": "execute_result",
     "data": {
      "text/plain": [
       "   RANK\n",
       "0     1\n",
       "1     1\n",
       "2     1\n",
       "3     1\n",
       "4     1"
      ],
      "text/html": "<div>\n<style scoped>\n    .dataframe tbody tr th:only-of-type {\n        vertical-align: middle;\n    }\n\n    .dataframe tbody tr th {\n        vertical-align: top;\n    }\n\n    .dataframe thead th {\n        text-align: right;\n    }\n</style>\n<table border=\"1\" class=\"dataframe\">\n  <thead>\n    <tr style=\"text-align: right;\">\n      <th></th>\n      <th>RANK</th>\n    </tr>\n  </thead>\n  <tbody>\n    <tr>\n      <th>0</th>\n      <td>1</td>\n    </tr>\n    <tr>\n      <th>1</th>\n      <td>1</td>\n    </tr>\n    <tr>\n      <th>2</th>\n      <td>1</td>\n    </tr>\n    <tr>\n      <th>3</th>\n      <td>1</td>\n    </tr>\n    <tr>\n      <th>4</th>\n      <td>1</td>\n    </tr>\n  </tbody>\n</table>\n</div>"
     },
     "metadata": {},
     "execution_count": 228
    }
   ],
   "source": [
    "# get the rank list\n",
    "rankList = []\n",
    "for resolverIndex in range(len(resolverList)):\n",
    "    noteNum = resolverList[resolverIndex].noteNum\n",
    "    rank = source[\"source-\"+str(resolverIndex+1)][\"rank\"]\n",
    "    for i in range(noteNum):\n",
    "        rankList+=[rank]\n",
    "rankDf = pd.DataFrame({\"RANK\":rankList})\n",
    "rankDf.head()"
   ]
  },
  {
   "cell_type": "code",
   "execution_count": 110,
   "metadata": {},
   "outputs": [
    {
     "output_type": "execute_result",
     "data": {
      "text/plain": [
       "   VEL-SINGLE  OPE-SINGLE  DUR-SINGLE  D-MEAN+0s  G-MEAN+0s  W-MEAN+0s  \\\n",
       "0          64         127          60        0.0        0.0        0.0   \n",
       "1          64         127         390        0.0        0.0        0.0   \n",
       "2          64         127          90        0.0        0.0        0.0   \n",
       "3          64         127         180        0.0        0.0        0.0   \n",
       "4          64         127          60        0.0        0.0        0.0   \n",
       "\n",
       "   P-MEAN+0s  S-MEAN+0s  D-SD+0s  G-SD+0s  ...  G-MID  W-MID  P-MID  S-MID  \\\n",
       "0        0.0        0.0      0.0      0.0  ...    0.0    0.0    0.0    0.0   \n",
       "1        0.0        0.0      0.0      0.0  ...    0.0    0.0    0.0    0.0   \n",
       "2        0.0        0.0      0.0      0.0  ...    0.0    0.0    0.0    0.0   \n",
       "3        0.0        0.0      0.0      0.0  ...    0.0    0.0    0.0    0.0   \n",
       "4        0.0        0.0      0.0      0.0  ...    0.0    0.0    0.0    0.0   \n",
       "\n",
       "   D-MOD  G-MOD  W-MOD  P-MOD  S-MOD  RANK  \n",
       "0      0      0      0      0      0     1  \n",
       "1      0      0      0      0      0     1  \n",
       "2      0      0      0      0      0     1  \n",
       "3      0      0      0      0      0     1  \n",
       "4      0      0      0      0      0     1  \n",
       "\n",
       "[5 rows x 44 columns]"
      ],
      "text/html": "<div>\n<style scoped>\n    .dataframe tbody tr th:only-of-type {\n        vertical-align: middle;\n    }\n\n    .dataframe tbody tr th {\n        vertical-align: top;\n    }\n\n    .dataframe thead th {\n        text-align: right;\n    }\n</style>\n<table border=\"1\" class=\"dataframe\">\n  <thead>\n    <tr style=\"text-align: right;\">\n      <th></th>\n      <th>VEL-SINGLE</th>\n      <th>OPE-SINGLE</th>\n      <th>DUR-SINGLE</th>\n      <th>D-MEAN+0s</th>\n      <th>G-MEAN+0s</th>\n      <th>W-MEAN+0s</th>\n      <th>P-MEAN+0s</th>\n      <th>S-MEAN+0s</th>\n      <th>D-SD+0s</th>\n      <th>G-SD+0s</th>\n      <th>...</th>\n      <th>G-MID</th>\n      <th>W-MID</th>\n      <th>P-MID</th>\n      <th>S-MID</th>\n      <th>D-MOD</th>\n      <th>G-MOD</th>\n      <th>W-MOD</th>\n      <th>P-MOD</th>\n      <th>S-MOD</th>\n      <th>RANK</th>\n    </tr>\n  </thead>\n  <tbody>\n    <tr>\n      <th>0</th>\n      <td>64</td>\n      <td>127</td>\n      <td>60</td>\n      <td>0.0</td>\n      <td>0.0</td>\n      <td>0.0</td>\n      <td>0.0</td>\n      <td>0.0</td>\n      <td>0.0</td>\n      <td>0.0</td>\n      <td>...</td>\n      <td>0.0</td>\n      <td>0.0</td>\n      <td>0.0</td>\n      <td>0.0</td>\n      <td>0</td>\n      <td>0</td>\n      <td>0</td>\n      <td>0</td>\n      <td>0</td>\n      <td>1</td>\n    </tr>\n    <tr>\n      <th>1</th>\n      <td>64</td>\n      <td>127</td>\n      <td>390</td>\n      <td>0.0</td>\n      <td>0.0</td>\n      <td>0.0</td>\n      <td>0.0</td>\n      <td>0.0</td>\n      <td>0.0</td>\n      <td>0.0</td>\n      <td>...</td>\n      <td>0.0</td>\n      <td>0.0</td>\n      <td>0.0</td>\n      <td>0.0</td>\n      <td>0</td>\n      <td>0</td>\n      <td>0</td>\n      <td>0</td>\n      <td>0</td>\n      <td>1</td>\n    </tr>\n    <tr>\n      <th>2</th>\n      <td>64</td>\n      <td>127</td>\n      <td>90</td>\n      <td>0.0</td>\n      <td>0.0</td>\n      <td>0.0</td>\n      <td>0.0</td>\n      <td>0.0</td>\n      <td>0.0</td>\n      <td>0.0</td>\n      <td>...</td>\n      <td>0.0</td>\n      <td>0.0</td>\n      <td>0.0</td>\n      <td>0.0</td>\n      <td>0</td>\n      <td>0</td>\n      <td>0</td>\n      <td>0</td>\n      <td>0</td>\n      <td>1</td>\n    </tr>\n    <tr>\n      <th>3</th>\n      <td>64</td>\n      <td>127</td>\n      <td>180</td>\n      <td>0.0</td>\n      <td>0.0</td>\n      <td>0.0</td>\n      <td>0.0</td>\n      <td>0.0</td>\n      <td>0.0</td>\n      <td>0.0</td>\n      <td>...</td>\n      <td>0.0</td>\n      <td>0.0</td>\n      <td>0.0</td>\n      <td>0.0</td>\n      <td>0</td>\n      <td>0</td>\n      <td>0</td>\n      <td>0</td>\n      <td>0</td>\n      <td>1</td>\n    </tr>\n    <tr>\n      <th>4</th>\n      <td>64</td>\n      <td>127</td>\n      <td>60</td>\n      <td>0.0</td>\n      <td>0.0</td>\n      <td>0.0</td>\n      <td>0.0</td>\n      <td>0.0</td>\n      <td>0.0</td>\n      <td>0.0</td>\n      <td>...</td>\n      <td>0.0</td>\n      <td>0.0</td>\n      <td>0.0</td>\n      <td>0.0</td>\n      <td>0</td>\n      <td>0</td>\n      <td>0</td>\n      <td>0</td>\n      <td>0</td>\n      <td>1</td>\n    </tr>\n  </tbody>\n</table>\n<p>5 rows × 44 columns</p>\n</div>"
     },
     "metadata": {},
     "execution_count": 110
    }
   ],
   "source": [
    "dataDf = argsDf.join(rankDf, on=rankDf.index)\n",
    "dataDf.head()"
   ]
  },
  {
   "source": [
    "## Clean our data\n",
    "\n",
    "1. delete all data that the dur longer than 960\n"
   ],
   "cell_type": "markdown",
   "metadata": {}
  },
  {
   "source": [
    "dataDf = dataDf[dataDf['DUR-SINGLE']<=960]\n",
    "dataDf.head()"
   ],
   "cell_type": "code",
   "metadata": {},
   "execution_count": 111,
   "outputs": [
    {
     "output_type": "execute_result",
     "data": {
      "text/plain": [
       "   VEL-SINGLE  OPE-SINGLE  DUR-SINGLE  D-MEAN+0s  G-MEAN+0s  W-MEAN+0s  \\\n",
       "0          64         127          60        0.0        0.0        0.0   \n",
       "1          64         127         390        0.0        0.0        0.0   \n",
       "2          64         127          90        0.0        0.0        0.0   \n",
       "3          64         127         180        0.0        0.0        0.0   \n",
       "4          64         127          60        0.0        0.0        0.0   \n",
       "\n",
       "   P-MEAN+0s  S-MEAN+0s  D-SD+0s  G-SD+0s  ...  G-MID  W-MID  P-MID  S-MID  \\\n",
       "0        0.0        0.0      0.0      0.0  ...    0.0    0.0    0.0    0.0   \n",
       "1        0.0        0.0      0.0      0.0  ...    0.0    0.0    0.0    0.0   \n",
       "2        0.0        0.0      0.0      0.0  ...    0.0    0.0    0.0    0.0   \n",
       "3        0.0        0.0      0.0      0.0  ...    0.0    0.0    0.0    0.0   \n",
       "4        0.0        0.0      0.0      0.0  ...    0.0    0.0    0.0    0.0   \n",
       "\n",
       "   D-MOD  G-MOD  W-MOD  P-MOD  S-MOD  RANK  \n",
       "0      0      0      0      0      0     1  \n",
       "1      0      0      0      0      0     1  \n",
       "2      0      0      0      0      0     1  \n",
       "3      0      0      0      0      0     1  \n",
       "4      0      0      0      0      0     1  \n",
       "\n",
       "[5 rows x 44 columns]"
      ],
      "text/html": "<div>\n<style scoped>\n    .dataframe tbody tr th:only-of-type {\n        vertical-align: middle;\n    }\n\n    .dataframe tbody tr th {\n        vertical-align: top;\n    }\n\n    .dataframe thead th {\n        text-align: right;\n    }\n</style>\n<table border=\"1\" class=\"dataframe\">\n  <thead>\n    <tr style=\"text-align: right;\">\n      <th></th>\n      <th>VEL-SINGLE</th>\n      <th>OPE-SINGLE</th>\n      <th>DUR-SINGLE</th>\n      <th>D-MEAN+0s</th>\n      <th>G-MEAN+0s</th>\n      <th>W-MEAN+0s</th>\n      <th>P-MEAN+0s</th>\n      <th>S-MEAN+0s</th>\n      <th>D-SD+0s</th>\n      <th>G-SD+0s</th>\n      <th>...</th>\n      <th>G-MID</th>\n      <th>W-MID</th>\n      <th>P-MID</th>\n      <th>S-MID</th>\n      <th>D-MOD</th>\n      <th>G-MOD</th>\n      <th>W-MOD</th>\n      <th>P-MOD</th>\n      <th>S-MOD</th>\n      <th>RANK</th>\n    </tr>\n  </thead>\n  <tbody>\n    <tr>\n      <th>0</th>\n      <td>64</td>\n      <td>127</td>\n      <td>60</td>\n      <td>0.0</td>\n      <td>0.0</td>\n      <td>0.0</td>\n      <td>0.0</td>\n      <td>0.0</td>\n      <td>0.0</td>\n      <td>0.0</td>\n      <td>...</td>\n      <td>0.0</td>\n      <td>0.0</td>\n      <td>0.0</td>\n      <td>0.0</td>\n      <td>0</td>\n      <td>0</td>\n      <td>0</td>\n      <td>0</td>\n      <td>0</td>\n      <td>1</td>\n    </tr>\n    <tr>\n      <th>1</th>\n      <td>64</td>\n      <td>127</td>\n      <td>390</td>\n      <td>0.0</td>\n      <td>0.0</td>\n      <td>0.0</td>\n      <td>0.0</td>\n      <td>0.0</td>\n      <td>0.0</td>\n      <td>0.0</td>\n      <td>...</td>\n      <td>0.0</td>\n      <td>0.0</td>\n      <td>0.0</td>\n      <td>0.0</td>\n      <td>0</td>\n      <td>0</td>\n      <td>0</td>\n      <td>0</td>\n      <td>0</td>\n      <td>1</td>\n    </tr>\n    <tr>\n      <th>2</th>\n      <td>64</td>\n      <td>127</td>\n      <td>90</td>\n      <td>0.0</td>\n      <td>0.0</td>\n      <td>0.0</td>\n      <td>0.0</td>\n      <td>0.0</td>\n      <td>0.0</td>\n      <td>0.0</td>\n      <td>...</td>\n      <td>0.0</td>\n      <td>0.0</td>\n      <td>0.0</td>\n      <td>0.0</td>\n      <td>0</td>\n      <td>0</td>\n      <td>0</td>\n      <td>0</td>\n      <td>0</td>\n      <td>1</td>\n    </tr>\n    <tr>\n      <th>3</th>\n      <td>64</td>\n      <td>127</td>\n      <td>180</td>\n      <td>0.0</td>\n      <td>0.0</td>\n      <td>0.0</td>\n      <td>0.0</td>\n      <td>0.0</td>\n      <td>0.0</td>\n      <td>0.0</td>\n      <td>...</td>\n      <td>0.0</td>\n      <td>0.0</td>\n      <td>0.0</td>\n      <td>0.0</td>\n      <td>0</td>\n      <td>0</td>\n      <td>0</td>\n      <td>0</td>\n      <td>0</td>\n      <td>1</td>\n    </tr>\n    <tr>\n      <th>4</th>\n      <td>64</td>\n      <td>127</td>\n      <td>60</td>\n      <td>0.0</td>\n      <td>0.0</td>\n      <td>0.0</td>\n      <td>0.0</td>\n      <td>0.0</td>\n      <td>0.0</td>\n      <td>0.0</td>\n      <td>...</td>\n      <td>0.0</td>\n      <td>0.0</td>\n      <td>0.0</td>\n      <td>0.0</td>\n      <td>0</td>\n      <td>0</td>\n      <td>0</td>\n      <td>0</td>\n      <td>0</td>\n      <td>1</td>\n    </tr>\n  </tbody>\n</table>\n<p>5 rows × 44 columns</p>\n</div>"
     },
     "metadata": {},
     "execution_count": 111
    }
   ]
  },
  {
   "source": [
    "## Evaluating data\n",
    "Perform the following steps:\n",
    "\n",
    "1. standardize our dataset\n",
    "2. plot the heat map of regression coefficient, and leave one argument from the pair with higher value\n",
    "3. fit to PCA modle, plot the corresponding percentage variance in a scree plot, combine the first several PCA\n",
    "4. regress the MSE of sound onto the combined PCA\n",
    "\n",
    "If the MSE is reasonaly small, we can accept this result."
   ],
   "cell_type": "markdown",
   "metadata": {}
  },
  {
   "cell_type": "code",
   "execution_count": 112,
   "metadata": {},
   "outputs": [],
   "source": [
    "def standardizer(dataArray):\n",
    "    return (dataArray-dataArray.mean())/dataArray.std()\n",
    "\n",
    "def normalizer(dataArray):\n",
    "    if dataArray.max() - dataArray.min() == 0:\n",
    "        return dataArray\n",
    "    return (dataArray-dataArray.min())/(dataArray.max() - dataArray.min())"
   ]
  },
  {
   "cell_type": "code",
   "execution_count": 224,
   "metadata": {},
   "outputs": [],
   "source": [
    "dataDfStandardized = dataDf.apply(standardizer)\n",
    "dataDfNormalized = dataDf.apply(normalizer)\n",
    "\n",
    "# dataDfNormalized.head()\n",
    "# dataDfStandardized.head()"
   ]
  },
  {
   "cell_type": "code",
   "execution_count": 208,
   "metadata": {},
   "outputs": [],
   "source": [
    "import seaborn as sns\n",
    "import matplotlib.pyplot as plt\n",
    "from scipy.spatial import Voronoi, voronoi_plot_2d\n",
    "\n",
    "def noiser(df):\n",
    "    return df.applymap(lambda x : x+np.random.random()*0.2)\n",
    "\n",
    "def comparisionPlot(columnName0, columnName1, hueColumn, dataDfNormalized):\n",
    "    # add 4 distant dummy points\n",
    "    # dataPoints = np.append((dataDfNormalized)[['P-MEAN', 'RANK']], [[2,2], [-2,2], [2,-2], [-2,-2]], axis = 0)\n",
    "\n",
    "    # noise version\n",
    "    dataPointsWithNoise = noiser(dataDfNormalized)\n",
    "\n",
    "    # normal version\n",
    "    dataPoints = dataDfNormalized[[columnName0, columnName1]]\n",
    "\n",
    "    sns.scatterplot(x = columnName0 ,y = columnName1, data = dataPointsWithNoise, hue=hueColumn, marker = \"o\")\n",
    "    plt.show()\n",
    "\n",
    "    \"\"\"\n",
    "    https://stackoverflow.com/questions/20515554/colorize-voronoi-diagram/20678647#20678647\n",
    "    https://ipython-books.github.io/145-computing-the-voronoi-diagram-of-a-set-of-points/\n",
    "    \"\"\"\n",
    "\n",
    "    # plot Voronoi diagrame\n",
    "    vor = Voronoi(dataPoints)\n",
    "    voronoi_plot_2d(vor, show_vertices = True, point_size = 2)\n",
    "\n",
    "    # color list \n",
    "    colorList = []\n",
    "    for regionIndex in range(len(vor.regions)):\n",
    "        if not -1 in vor.regions[regionIndex]:\n",
    "            polygon = [vor.vertices[i] for i in vor.regions[regionIndex]]\n",
    "            if len(polygon) == 0:\n",
    "                colorList += colorList[-1:]\n",
    "                continue\n",
    "            colorList += [np.array(polygon).transpose().min()]\n",
    "        colorList += colorList[-1:]\n",
    "    colorList = normalizer(np.array(colorList))\n",
    "\n",
    "    # colorize\n",
    "    for regionIndex in range(len(vor.regions)):\n",
    "        if not -1 in vor.regions[regionIndex]:\n",
    "            polygon = [vor.vertices[i] for i in vor.regions[regionIndex]]\n",
    "            plt.fill(*zip(*polygon),color=np.repeat(colorList[regionIndex],3))\n",
    "\n",
    "    # fix the range of axes\n",
    "    plt.xlim([-0.2,1.2]), plt.ylim([-0.2,1.2])\n",
    "\n",
    "    plt.show()"
   ]
  },
  {
   "cell_type": "code",
   "execution_count": 210,
   "metadata": {},
   "outputs": [],
   "source": [
    "def comparisionPlot2(columnName0, columnName1, dataDfNormalized):\n",
    "    # add 4 distant dummy points\n",
    "    # dataPoints = np.append((dataDfNormalized)[['P-MEAN', 'RANK']], [[2,2], [-2,2], [2,-2], [-2,-2]], axis = 0)\n",
    "\n",
    "    # noise version\n",
    "    dataPointsWithNoise = noiser(dataDfNormalized[dataDfNormalized[\"RANK\"]<0.5])\n",
    "\n",
    "    sns.scatterplot(x = columnName0 ,y = columnName1, data = dataPointsWithNoise, hue=\"RANK\", marker = \"o\")\n",
    "    plt.xlim([-0.2,1.2]), plt.ylim([-0.2,1.2])\n",
    "    plt.show()\n",
    "\n",
    "    # noise version\n",
    "    dataPointsWithNoise = noiser(dataDfNormalized[dataDfNormalized[\"RANK\"]>=0.5])\n",
    "\n",
    "    sns.scatterplot(x = columnName0 ,y = columnName1, data = dataPointsWithNoise, hue=\"RANK\", marker = \"o\")\n",
    "    plt.xlim([-0.2,1.2]), plt.ylim([-0.2,1.2])\n",
    "    plt.show()"
   ]
  },
  {
   "cell_type": "code",
   "execution_count": 231,
   "metadata": {},
   "outputs": [
    {
     "output_type": "execute_result",
     "data": {
      "text/plain": [
       "Index(['VEL-SINGLE', 'OPE-SINGLE', 'DUR-SINGLE', 'D-MEAN+0s', 'G-MEAN+0s',\n",
       "       'W-MEAN+0s', 'P-MEAN+0s', 'S-MEAN+0s', 'D-SD+0s', 'G-SD+0s', 'W-SD+0s',\n",
       "       'P-SD+0s', 'S-SD+0s', 'D-MEAN', 'G-MEAN', 'W-MEAN', 'P-MEAN', 'S-MEAN',\n",
       "       'D-SD', 'G-SD', 'W-SD', 'P-SD', 'S-SD', 'D-MIN', 'G-MIN', 'W-MIN',\n",
       "       'P-MIN', 'S-MIN', 'D-MAX', 'G-MAX', 'W-MAX', 'P-MAX', 'S-MAX', 'D-MID',\n",
       "       'G-MID', 'W-MID', 'P-MID', 'S-MID', 'D-MOD', 'G-MOD', 'W-MOD', 'P-MOD',\n",
       "       'S-MOD', 'RANK'],\n",
       "      dtype='object')"
      ]
     },
     "metadata": {},
     "execution_count": 231
    }
   ],
   "source": [
    "dataDfNormalized.columns"
   ]
  },
  {
   "cell_type": "code",
   "execution_count": 221,
   "metadata": {},
   "outputs": [],
   "source": [
    "# comparisionPlot('DUR-SINGLE','P-SD',\"RANK\",dataDfNormalized)\n",
    "# comparisionPlot2('DUR-SINGLE','P-SD',dataDfNormalized)"
   ]
  },
  {
   "cell_type": "code",
   "execution_count": 223,
   "metadata": {},
   "outputs": [],
   "source": [
    "# comparisionPlot('DUR-SINGLE','P-MEAN+0s',\"RANK\",dataDfNormalized)\n",
    "# comparisionPlot2('DUR-SINGLE','P-MEAN+0s',dataDfNormalized)"
   ]
  },
  {
   "cell_type": "code",
   "execution_count": null,
   "metadata": {},
   "outputs": [],
   "source": []
  },
  {
   "source": [
    "## Conclusion\n",
    "\n",
    "Conclusion and preparation for later step.\n",
    "\n",
    "1. report on the result\n",
    "2. automate all processes in data preparation, PCA and regression."
   ],
   "cell_type": "markdown",
   "metadata": {}
  }
 ]
}