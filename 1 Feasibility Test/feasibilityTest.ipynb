{
 "metadata": {
  "language_info": {
   "codemirror_mode": {
    "name": "ipython",
    "version": 3
   },
   "file_extension": ".py",
   "mimetype": "text/x-python",
   "name": "python",
   "nbconvert_exporter": "python",
   "pygments_lexer": "ipython3",
   "version": "3.8.7-final"
  },
  "orig_nbformat": 2,
  "kernelspec": {
   "name": "python3",
   "display_name": "Python 3.8.7 64-bit",
   "metadata": {
    "interpreter": {
     "hash": "5f97780e2f1c6cca63f92ebe0450dc057437ec540d8a15c508bbd5fdacc3ae87"
    }
   }
  }
 },
 "nbformat": 4,
 "nbformat_minor": 2,
 "cells": [
  {
   "source": [
    "# AI tuner feasibility test - Chinese version\n",
    "The purpose of this test is to show that there is correlation between modifiable argument in Vocaloid and the difference between the generated wave and real person sound."
   ],
   "cell_type": "markdown",
   "metadata": {}
  },
  {
   "source": [
    "## Prepare data\n",
    "In this part we will prepare (and clean) our data in folder `originalSoundData` and store them in `dataForTest` folder for later evaluation. \n",
    "\n",
    "1. split original sound data (OSD) and vocaloid sound data (VSD) as word pieces (wp)\n",
    "2. import vocaloid project (VCP) and extract all test related arguments (arg)\n",
    "3. import OSD.wp and VSD.wp and calculate the mean square error (MSE)\n",
    "4. evaluate OSD.wp and filter out arguments in the VCP.arg that can be modified according with the evaluation result\n",
    "\n",
    "**Suppose there is no relation between VCP.arg and their note type.**\n",
    "\n",
    "If there is some relation between these two, we need to condiser about taking random VCP.arg."
   ],
   "cell_type": "markdown",
   "metadata": {}
  },
  {
   "source": [
    "## Evaluating data\n",
    "Perform the following steps:\n",
    "\n",
    "1. standardize our dataset\n",
    "2. plot the heat map of regression coefficient, and leave one argument from the pair with higher value\n",
    "3. fit to PCA modle, plot the corresponding percentage variance in a scree plot, combine the first several PCA\n",
    "4. regress the MSE of sound onto the combined PCA\n",
    "\n",
    "If the MSE is reasonaly small, we can accept this result."
   ],
   "cell_type": "markdown",
   "metadata": {}
  },
  {
   "source": [
    "## Conclusion\n",
    "\n",
    "Conclusion and preparation for later step.\n",
    "\n",
    "1. report on the result\n",
    "2. automate all processes in data preparation, PCA and regression."
   ],
   "cell_type": "markdown",
   "metadata": {}
  }
 ]
}